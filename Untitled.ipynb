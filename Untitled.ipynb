{
 "cells": [
  {
   "cell_type": "code",
   "execution_count": 1,
   "id": "644de395",
   "metadata": {},
   "outputs": [
    {
     "data": {
      "application/vnd.jupyter.widget-view+json": {
       "model_id": "0b0f74288056499cb96bc0c8ae3fd326",
       "version_major": 2,
       "version_minor": 0
      },
      "text/plain": [
       "RFBOutputContext()"
      ]
     },
     "metadata": {},
     "output_type": "display_data"
    },
    {
     "data": {
      "application/vnd.jupyter.widget-view+json": {
       "model_id": "fb6f8081a62945f5836105100e4537cd",
       "version_major": 2,
       "version_minor": 0
      },
      "text/html": [
       "<div class='snapshot-fb6f8081a62945f5836105100e4537cd' style='position:relative;'><img src='data:image/png;base64,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' style='width:800.0px;height:600.0px;' /><div style='position: absolute; top:0; left:0; padding:1px 3px; background: #777; color:#fff; font-size: 90%; font-family:sans-serif; '>snapshot</div></div>"
      ],
      "text/plain": [
       "CanvasBackend(css_height='600px', css_width='800px')"
      ]
     },
     "execution_count": 1,
     "metadata": {},
     "output_type": "execute_result"
    }
   ],
   "source": [
    "import vispy\n",
    "from vispy import scene\n",
    "from vispy.scene import visuals\n",
    "import numpy as np\n",
    "\n",
    "# Generate sample graph data\n",
    "nodes = np.array([\n",
    "    [0, 0],\n",
    "    [1, 0],\n",
    "    [0.5, 0.866],\n",
    "    [0.5, -0.866]\n",
    "])\n",
    "\n",
    "edges = np.array([\n",
    "    [0, 1],\n",
    "    [0, 2],\n",
    "    [0, 3],\n",
    "    [1, 2],\n",
    "    [1, 3],\n",
    "])\n",
    "\n",
    "# Assign random values to edges\n",
    "edge_values = np.random.rand(len(edges))\n",
    "\n",
    "# Create the canvas with a white background and add a view\n",
    "canvas = scene.SceneCanvas(keys='interactive', show=True, bgcolor='white')\n",
    "view = canvas.central_widget.add_view()\n",
    "\n",
    "# Create scatter plot for nodes\n",
    "scatter = visuals.Markers()\n",
    "scatter.set_data(nodes, face_color='blue', size=10)\n",
    "view.add(scatter)\n",
    "\n",
    "# Create lines for edges\n",
    "lines = visuals.Line(pos=nodes[edges].reshape(-1, 2),\n",
    "                     connect='segments',\n",
    "                     color='black',  # Change edge color to black for contrast\n",
    "                     width=2)\n",
    "view.add(lines)\n",
    "\n",
    "# Set the camera to 2D\n",
    "view.camera = 'panzoom'\n",
    "view.camera.aspect = 1\n",
    "\n",
    "# Create a Text Visual for displaying information\n",
    "text = visuals.Text('', color='black', pos=(10, 10), font_size=12, parent=canvas.scene)\n",
    "\n",
    "# Function to handle mouse movement and display info\n",
    "def on_mouse_move(event):\n",
    "    if event.is_dragging:\n",
    "        return\n",
    "\n",
    "    if event.pos is None:\n",
    "        return\n",
    "\n",
    "    # Map the mouse position to the scene\n",
    "    tr = view.scene.transform\n",
    "    mouse_pos = tr.imap(event.pos)[:2]\n",
    "\n",
    "    # Check if mouse is over a node\n",
    "    distances = np.linalg.norm(nodes - mouse_pos, axis=1)\n",
    "    min_dist = np.min(distances)\n",
    "    if min_dist < 0.05:  # Threshold for detecting node hover\n",
    "        index = np.argmin(distances)\n",
    "        node_coord = nodes[index]\n",
    "        text.text = f'Node {index}: ({node_coord[0]:.2f}, {node_coord[1]:.2f})'\n",
    "        text.pos = event.pos\n",
    "        return\n",
    "\n",
    "    # Check if mouse is over an edge\n",
    "    min_edge_dist = None\n",
    "    min_edge_index = None\n",
    "    for i, (start_idx, end_idx) in enumerate(edges):\n",
    "        start_point = nodes[start_idx]\n",
    "        end_point = nodes[end_idx]\n",
    "\n",
    "        # Compute projection of mouse position onto the edge\n",
    "        edge_vec = end_point - start_point\n",
    "        point_vec = mouse_pos - start_point\n",
    "        edge_length = np.linalg.norm(edge_vec)\n",
    "        if edge_length == 0:\n",
    "            continue\n",
    "        t = np.dot(point_vec, edge_vec) / (edge_length ** 2)\n",
    "        t = np.clip(t, 0, 1)\n",
    "        projection = start_point + t * edge_vec\n",
    "        distance = np.linalg.norm(mouse_pos - projection)\n",
    "\n",
    "        # Update minimum distance and edge index\n",
    "        if min_edge_dist is None or distance < min_edge_dist:\n",
    "            min_edge_dist = distance\n",
    "            min_edge_index = i\n",
    "\n",
    "    if min_edge_dist is not None and min_edge_dist < 0.05:  # Threshold for edge hover\n",
    "        edge = edges[min_edge_index]\n",
    "        value = edge_values[min_edge_index]\n",
    "        text.text = f'Edge {edge.tolist()}: Value {value:.2f}'\n",
    "        text.pos = event.pos\n",
    "    else:\n",
    "        text.text = ''\n",
    "\n",
    "# Connect the mouse move event\n",
    "canvas.events.mouse_move.connect(on_mouse_move)\n",
    "\n",
    "canvas"
   ]
  },
  {
   "cell_type": "code",
   "execution_count": null,
   "id": "3a2cf680",
   "metadata": {},
   "outputs": [],
   "source": []
  }
 ],
 "metadata": {
  "kernelspec": {
   "display_name": "Python 3 (ipykernel)",
   "language": "python",
   "name": "python3"
  },
  "language_info": {
   "codemirror_mode": {
    "name": "ipython",
    "version": 3
   },
   "file_extension": ".py",
   "mimetype": "text/x-python",
   "name": "python",
   "nbconvert_exporter": "python",
   "pygments_lexer": "ipython3",
   "version": "3.10.9"
  }
 },
 "nbformat": 4,
 "nbformat_minor": 5
}
